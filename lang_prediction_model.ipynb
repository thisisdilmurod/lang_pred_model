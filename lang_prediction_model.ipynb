{
  "nbformat": 4,
  "nbformat_minor": 0,
  "metadata": {
    "colab": {
      "provenance": []
    },
    "kernelspec": {
      "name": "python3",
      "display_name": "Python 3"
    },
    "language_info": {
      "name": "python"
    }
  },
  "cells": [
    {
      "cell_type": "markdown",
      "source": [
        "## **Predicting Tendency towards Multilingualism with Supervised Learning**\n"
      ],
      "metadata": {
        "id": "8CHSlIdhVEFM"
      }
    },
    {
      "cell_type": "markdown",
      "source": [
        "### **Abstract**\n",
        "Multilingualism refers to the use of more than a single dialect, either regarding the individual or the group. Over the past few years, there has been quite an increase in the number of multilingual speakers around the globe, and thus, the early detection of the potential to learn another language plays an essential role in education as well as further lifestyle. However, the prediction for susceptibility towards multilingualism now heavily relies on conventional measures, leading to the lack of predictive range and statistical modelling inaccuracies. To approach the associated issues of traditional methodologies, we created a supervised learning model with the use of mathematics in Python. Compiling a dataset for a wide range of factors, such as socioeconomic status, ethnicity, culture, age, education, and occupation, we focused the model on analyzing through the classification algorithm of logistic regression. In conclusion, the use of machine learning poses a plethora of advantages for better predicting the likelihood of pursuing additional language and thereby acting according to the provided outcomes. As a result of these benefits, this model can immensely elevate the psychological along with physiological techniques of envisioning latent multilingualism. "
      ],
      "metadata": {
        "id": "1kdgbWQAmaQ-"
      }
    },
    {
      "cell_type": "code",
      "source": [
        "# Importing necessary Python libraries\n",
        "import numpy as np\n",
        "import pandas as pd\n",
        "import matplotlib.pyplot as plt\n",
        "import seaborn as sns\n",
        "from sklearn.model_selection import train_test_split\n",
        "from sklearn.linear_model import LogisticRegression\n",
        "from sklearn.metrics import accuracy_score\n",
        "from sklearn.metrics import plot_confusion_matrix"
      ],
      "metadata": {
        "id": "JIf70e87WjLW"
      },
      "execution_count": null,
      "outputs": []
    },
    {
      "cell_type": "code",
      "source": [
        "# Structuring the dataset\n",
        "ling_data = pd.read_csv('/content/ling_data.csv', header=None)\n",
        "ling_data.head()"
      ],
      "metadata": {
        "colab": {
          "base_uri": "https://localhost:8080/",
          "height": 206
        },
        "id": "a8bdtoitWyMl",
        "outputId": "44853bac-1ae5-4e81-f534-cd607738c880"
      },
      "execution_count": null,
      "outputs": [
        {
          "output_type": "execute_result",
          "data": {
            "text/plain": [
              "    0  1  2  3  4  5  6\n",
              "0   5  4  6  2  0  2  0\n",
              "1  19  4  6  3  1  3  1\n",
              "2   7  4  3  1  0  4  0\n",
              "3  34  3  6  3  0  4  0\n",
              "4   5  1  5  1  1  4  1"
            ],
            "text/html": [
              "\n",
              "  <div id=\"df-681fbba1-0a71-471d-9d00-7c20ec8cd904\">\n",
              "    <div class=\"colab-df-container\">\n",
              "      <div>\n",
              "<style scoped>\n",
              "    .dataframe tbody tr th:only-of-type {\n",
              "        vertical-align: middle;\n",
              "    }\n",
              "\n",
              "    .dataframe tbody tr th {\n",
              "        vertical-align: top;\n",
              "    }\n",
              "\n",
              "    .dataframe thead th {\n",
              "        text-align: right;\n",
              "    }\n",
              "</style>\n",
              "<table border=\"1\" class=\"dataframe\">\n",
              "  <thead>\n",
              "    <tr style=\"text-align: right;\">\n",
              "      <th></th>\n",
              "      <th>0</th>\n",
              "      <th>1</th>\n",
              "      <th>2</th>\n",
              "      <th>3</th>\n",
              "      <th>4</th>\n",
              "      <th>5</th>\n",
              "      <th>6</th>\n",
              "    </tr>\n",
              "  </thead>\n",
              "  <tbody>\n",
              "    <tr>\n",
              "      <th>0</th>\n",
              "      <td>5</td>\n",
              "      <td>4</td>\n",
              "      <td>6</td>\n",
              "      <td>2</td>\n",
              "      <td>0</td>\n",
              "      <td>2</td>\n",
              "      <td>0</td>\n",
              "    </tr>\n",
              "    <tr>\n",
              "      <th>1</th>\n",
              "      <td>19</td>\n",
              "      <td>4</td>\n",
              "      <td>6</td>\n",
              "      <td>3</td>\n",
              "      <td>1</td>\n",
              "      <td>3</td>\n",
              "      <td>1</td>\n",
              "    </tr>\n",
              "    <tr>\n",
              "      <th>2</th>\n",
              "      <td>7</td>\n",
              "      <td>4</td>\n",
              "      <td>3</td>\n",
              "      <td>1</td>\n",
              "      <td>0</td>\n",
              "      <td>4</td>\n",
              "      <td>0</td>\n",
              "    </tr>\n",
              "    <tr>\n",
              "      <th>3</th>\n",
              "      <td>34</td>\n",
              "      <td>3</td>\n",
              "      <td>6</td>\n",
              "      <td>3</td>\n",
              "      <td>0</td>\n",
              "      <td>4</td>\n",
              "      <td>0</td>\n",
              "    </tr>\n",
              "    <tr>\n",
              "      <th>4</th>\n",
              "      <td>5</td>\n",
              "      <td>1</td>\n",
              "      <td>5</td>\n",
              "      <td>1</td>\n",
              "      <td>1</td>\n",
              "      <td>4</td>\n",
              "      <td>1</td>\n",
              "    </tr>\n",
              "  </tbody>\n",
              "</table>\n",
              "</div>\n",
              "      <button class=\"colab-df-convert\" onclick=\"convertToInteractive('df-681fbba1-0a71-471d-9d00-7c20ec8cd904')\"\n",
              "              title=\"Convert this dataframe to an interactive table.\"\n",
              "              style=\"display:none;\">\n",
              "        \n",
              "  <svg xmlns=\"http://www.w3.org/2000/svg\" height=\"24px\"viewBox=\"0 0 24 24\"\n",
              "       width=\"24px\">\n",
              "    <path d=\"M0 0h24v24H0V0z\" fill=\"none\"/>\n",
              "    <path d=\"M18.56 5.44l.94 2.06.94-2.06 2.06-.94-2.06-.94-.94-2.06-.94 2.06-2.06.94zm-11 1L8.5 8.5l.94-2.06 2.06-.94-2.06-.94L8.5 2.5l-.94 2.06-2.06.94zm10 10l.94 2.06.94-2.06 2.06-.94-2.06-.94-.94-2.06-.94 2.06-2.06.94z\"/><path d=\"M17.41 7.96l-1.37-1.37c-.4-.4-.92-.59-1.43-.59-.52 0-1.04.2-1.43.59L10.3 9.45l-7.72 7.72c-.78.78-.78 2.05 0 2.83L4 21.41c.39.39.9.59 1.41.59.51 0 1.02-.2 1.41-.59l7.78-7.78 2.81-2.81c.8-.78.8-2.07 0-2.86zM5.41 20L4 18.59l7.72-7.72 1.47 1.35L5.41 20z\"/>\n",
              "  </svg>\n",
              "      </button>\n",
              "      \n",
              "  <style>\n",
              "    .colab-df-container {\n",
              "      display:flex;\n",
              "      flex-wrap:wrap;\n",
              "      gap: 12px;\n",
              "    }\n",
              "\n",
              "    .colab-df-convert {\n",
              "      background-color: #E8F0FE;\n",
              "      border: none;\n",
              "      border-radius: 50%;\n",
              "      cursor: pointer;\n",
              "      display: none;\n",
              "      fill: #1967D2;\n",
              "      height: 32px;\n",
              "      padding: 0 0 0 0;\n",
              "      width: 32px;\n",
              "    }\n",
              "\n",
              "    .colab-df-convert:hover {\n",
              "      background-color: #E2EBFA;\n",
              "      box-shadow: 0px 1px 2px rgba(60, 64, 67, 0.3), 0px 1px 3px 1px rgba(60, 64, 67, 0.15);\n",
              "      fill: #174EA6;\n",
              "    }\n",
              "\n",
              "    [theme=dark] .colab-df-convert {\n",
              "      background-color: #3B4455;\n",
              "      fill: #D2E3FC;\n",
              "    }\n",
              "\n",
              "    [theme=dark] .colab-df-convert:hover {\n",
              "      background-color: #434B5C;\n",
              "      box-shadow: 0px 1px 3px 1px rgba(0, 0, 0, 0.15);\n",
              "      filter: drop-shadow(0px 1px 2px rgba(0, 0, 0, 0.3));\n",
              "      fill: #FFFFFF;\n",
              "    }\n",
              "  </style>\n",
              "\n",
              "      <script>\n",
              "        const buttonEl =\n",
              "          document.querySelector('#df-681fbba1-0a71-471d-9d00-7c20ec8cd904 button.colab-df-convert');\n",
              "        buttonEl.style.display =\n",
              "          google.colab.kernel.accessAllowed ? 'block' : 'none';\n",
              "\n",
              "        async function convertToInteractive(key) {\n",
              "          const element = document.querySelector('#df-681fbba1-0a71-471d-9d00-7c20ec8cd904');\n",
              "          const dataTable =\n",
              "            await google.colab.kernel.invokeFunction('convertToInteractive',\n",
              "                                                     [key], {});\n",
              "          if (!dataTable) return;\n",
              "\n",
              "          const docLinkHtml = 'Like what you see? Visit the ' +\n",
              "            '<a target=\"_blank\" href=https://colab.research.google.com/notebooks/data_table.ipynb>data table notebook</a>'\n",
              "            + ' to learn more about interactive tables.';\n",
              "          element.innerHTML = '';\n",
              "          dataTable['output_type'] = 'display_data';\n",
              "          await google.colab.output.renderOutput(dataTable, element);\n",
              "          const docLink = document.createElement('div');\n",
              "          docLink.innerHTML = docLinkHtml;\n",
              "          element.appendChild(docLink);\n",
              "        }\n",
              "      </script>\n",
              "    </div>\n",
              "  </div>\n",
              "  "
            ]
          },
          "metadata": {},
          "execution_count": 5
        }
      ]
    },
    {
      "cell_type": "code",
      "source": [
        "# Understanding the dataset\n",
        "ling_data.shape\n",
        "ling_data.describe()"
      ],
      "metadata": {
        "colab": {
          "base_uri": "https://localhost:8080/",
          "height": 300
        },
        "id": "ZOsKjmLvXbNb",
        "outputId": "d6cc02f5-46ab-4ac6-a337-d402074964df"
      },
      "execution_count": null,
      "outputs": [
        {
          "output_type": "execute_result",
          "data": {
            "text/plain": [
              "                0           1           2          3           4           5  \\\n",
              "count  100.000000  100.000000  100.000000  100.00000  100.000000  100.000000   \n",
              "mean    24.930000    2.910000    6.310000    2.13000    0.520000    3.130000   \n",
              "std     12.250957    1.364003    2.290494    0.83672    0.502117    1.360741   \n",
              "min      5.000000    1.000000    3.000000    1.00000    0.000000    1.000000   \n",
              "25%     14.750000    2.000000    4.000000    1.00000    0.000000    2.000000   \n",
              "50%     26.000000    3.000000    6.000000    2.00000    1.000000    3.000000   \n",
              "75%     34.000000    4.000000    8.000000    3.00000    1.000000    4.000000   \n",
              "max     50.000000    5.000000   10.000000    3.00000    1.000000    5.000000   \n",
              "\n",
              "                6  \n",
              "count  100.000000  \n",
              "mean     0.470000  \n",
              "std      0.501614  \n",
              "min      0.000000  \n",
              "25%      0.000000  \n",
              "50%      0.000000  \n",
              "75%      1.000000  \n",
              "max      1.000000  "
            ],
            "text/html": [
              "\n",
              "  <div id=\"df-16c09358-6622-4bdc-b5c3-c3b5771e72fb\">\n",
              "    <div class=\"colab-df-container\">\n",
              "      <div>\n",
              "<style scoped>\n",
              "    .dataframe tbody tr th:only-of-type {\n",
              "        vertical-align: middle;\n",
              "    }\n",
              "\n",
              "    .dataframe tbody tr th {\n",
              "        vertical-align: top;\n",
              "    }\n",
              "\n",
              "    .dataframe thead th {\n",
              "        text-align: right;\n",
              "    }\n",
              "</style>\n",
              "<table border=\"1\" class=\"dataframe\">\n",
              "  <thead>\n",
              "    <tr style=\"text-align: right;\">\n",
              "      <th></th>\n",
              "      <th>0</th>\n",
              "      <th>1</th>\n",
              "      <th>2</th>\n",
              "      <th>3</th>\n",
              "      <th>4</th>\n",
              "      <th>5</th>\n",
              "      <th>6</th>\n",
              "    </tr>\n",
              "  </thead>\n",
              "  <tbody>\n",
              "    <tr>\n",
              "      <th>count</th>\n",
              "      <td>100.000000</td>\n",
              "      <td>100.000000</td>\n",
              "      <td>100.000000</td>\n",
              "      <td>100.00000</td>\n",
              "      <td>100.000000</td>\n",
              "      <td>100.000000</td>\n",
              "      <td>100.000000</td>\n",
              "    </tr>\n",
              "    <tr>\n",
              "      <th>mean</th>\n",
              "      <td>24.930000</td>\n",
              "      <td>2.910000</td>\n",
              "      <td>6.310000</td>\n",
              "      <td>2.13000</td>\n",
              "      <td>0.520000</td>\n",
              "      <td>3.130000</td>\n",
              "      <td>0.470000</td>\n",
              "    </tr>\n",
              "    <tr>\n",
              "      <th>std</th>\n",
              "      <td>12.250957</td>\n",
              "      <td>1.364003</td>\n",
              "      <td>2.290494</td>\n",
              "      <td>0.83672</td>\n",
              "      <td>0.502117</td>\n",
              "      <td>1.360741</td>\n",
              "      <td>0.501614</td>\n",
              "    </tr>\n",
              "    <tr>\n",
              "      <th>min</th>\n",
              "      <td>5.000000</td>\n",
              "      <td>1.000000</td>\n",
              "      <td>3.000000</td>\n",
              "      <td>1.00000</td>\n",
              "      <td>0.000000</td>\n",
              "      <td>1.000000</td>\n",
              "      <td>0.000000</td>\n",
              "    </tr>\n",
              "    <tr>\n",
              "      <th>25%</th>\n",
              "      <td>14.750000</td>\n",
              "      <td>2.000000</td>\n",
              "      <td>4.000000</td>\n",
              "      <td>1.00000</td>\n",
              "      <td>0.000000</td>\n",
              "      <td>2.000000</td>\n",
              "      <td>0.000000</td>\n",
              "    </tr>\n",
              "    <tr>\n",
              "      <th>50%</th>\n",
              "      <td>26.000000</td>\n",
              "      <td>3.000000</td>\n",
              "      <td>6.000000</td>\n",
              "      <td>2.00000</td>\n",
              "      <td>1.000000</td>\n",
              "      <td>3.000000</td>\n",
              "      <td>0.000000</td>\n",
              "    </tr>\n",
              "    <tr>\n",
              "      <th>75%</th>\n",
              "      <td>34.000000</td>\n",
              "      <td>4.000000</td>\n",
              "      <td>8.000000</td>\n",
              "      <td>3.00000</td>\n",
              "      <td>1.000000</td>\n",
              "      <td>4.000000</td>\n",
              "      <td>1.000000</td>\n",
              "    </tr>\n",
              "    <tr>\n",
              "      <th>max</th>\n",
              "      <td>50.000000</td>\n",
              "      <td>5.000000</td>\n",
              "      <td>10.000000</td>\n",
              "      <td>3.00000</td>\n",
              "      <td>1.000000</td>\n",
              "      <td>5.000000</td>\n",
              "      <td>1.000000</td>\n",
              "    </tr>\n",
              "  </tbody>\n",
              "</table>\n",
              "</div>\n",
              "      <button class=\"colab-df-convert\" onclick=\"convertToInteractive('df-16c09358-6622-4bdc-b5c3-c3b5771e72fb')\"\n",
              "              title=\"Convert this dataframe to an interactive table.\"\n",
              "              style=\"display:none;\">\n",
              "        \n",
              "  <svg xmlns=\"http://www.w3.org/2000/svg\" height=\"24px\"viewBox=\"0 0 24 24\"\n",
              "       width=\"24px\">\n",
              "    <path d=\"M0 0h24v24H0V0z\" fill=\"none\"/>\n",
              "    <path d=\"M18.56 5.44l.94 2.06.94-2.06 2.06-.94-2.06-.94-.94-2.06-.94 2.06-2.06.94zm-11 1L8.5 8.5l.94-2.06 2.06-.94-2.06-.94L8.5 2.5l-.94 2.06-2.06.94zm10 10l.94 2.06.94-2.06 2.06-.94-2.06-.94-.94-2.06-.94 2.06-2.06.94z\"/><path d=\"M17.41 7.96l-1.37-1.37c-.4-.4-.92-.59-1.43-.59-.52 0-1.04.2-1.43.59L10.3 9.45l-7.72 7.72c-.78.78-.78 2.05 0 2.83L4 21.41c.39.39.9.59 1.41.59.51 0 1.02-.2 1.41-.59l7.78-7.78 2.81-2.81c.8-.78.8-2.07 0-2.86zM5.41 20L4 18.59l7.72-7.72 1.47 1.35L5.41 20z\"/>\n",
              "  </svg>\n",
              "      </button>\n",
              "      \n",
              "  <style>\n",
              "    .colab-df-container {\n",
              "      display:flex;\n",
              "      flex-wrap:wrap;\n",
              "      gap: 12px;\n",
              "    }\n",
              "\n",
              "    .colab-df-convert {\n",
              "      background-color: #E8F0FE;\n",
              "      border: none;\n",
              "      border-radius: 50%;\n",
              "      cursor: pointer;\n",
              "      display: none;\n",
              "      fill: #1967D2;\n",
              "      height: 32px;\n",
              "      padding: 0 0 0 0;\n",
              "      width: 32px;\n",
              "    }\n",
              "\n",
              "    .colab-df-convert:hover {\n",
              "      background-color: #E2EBFA;\n",
              "      box-shadow: 0px 1px 2px rgba(60, 64, 67, 0.3), 0px 1px 3px 1px rgba(60, 64, 67, 0.15);\n",
              "      fill: #174EA6;\n",
              "    }\n",
              "\n",
              "    [theme=dark] .colab-df-convert {\n",
              "      background-color: #3B4455;\n",
              "      fill: #D2E3FC;\n",
              "    }\n",
              "\n",
              "    [theme=dark] .colab-df-convert:hover {\n",
              "      background-color: #434B5C;\n",
              "      box-shadow: 0px 1px 3px 1px rgba(0, 0, 0, 0.15);\n",
              "      filter: drop-shadow(0px 1px 2px rgba(0, 0, 0, 0.3));\n",
              "      fill: #FFFFFF;\n",
              "    }\n",
              "  </style>\n",
              "\n",
              "      <script>\n",
              "        const buttonEl =\n",
              "          document.querySelector('#df-16c09358-6622-4bdc-b5c3-c3b5771e72fb button.colab-df-convert');\n",
              "        buttonEl.style.display =\n",
              "          google.colab.kernel.accessAllowed ? 'block' : 'none';\n",
              "\n",
              "        async function convertToInteractive(key) {\n",
              "          const element = document.querySelector('#df-16c09358-6622-4bdc-b5c3-c3b5771e72fb');\n",
              "          const dataTable =\n",
              "            await google.colab.kernel.invokeFunction('convertToInteractive',\n",
              "                                                     [key], {});\n",
              "          if (!dataTable) return;\n",
              "\n",
              "          const docLinkHtml = 'Like what you see? Visit the ' +\n",
              "            '<a target=\"_blank\" href=https://colab.research.google.com/notebooks/data_table.ipynb>data table notebook</a>'\n",
              "            + ' to learn more about interactive tables.';\n",
              "          element.innerHTML = '';\n",
              "          dataTable['output_type'] = 'display_data';\n",
              "          await google.colab.output.renderOutput(dataTable, element);\n",
              "          const docLink = document.createElement('div');\n",
              "          docLink.innerHTML = docLinkHtml;\n",
              "          element.appendChild(docLink);\n",
              "        }\n",
              "      </script>\n",
              "    </div>\n",
              "  </div>\n",
              "  "
            ]
          },
          "metadata": {},
          "execution_count": 7
        }
      ]
    },
    {
      "cell_type": "code",
      "source": [
        "ling_data[6].value_counts()"
      ],
      "metadata": {
        "colab": {
          "base_uri": "https://localhost:8080/"
        },
        "id": "C6ckCzyBXdGD",
        "outputId": "e9194ade-335b-4e84-e37a-1ac813a7c0af"
      },
      "execution_count": null,
      "outputs": [
        {
          "output_type": "execute_result",
          "data": {
            "text/plain": [
              "0    53\n",
              "1    47\n",
              "Name: 6, dtype: int64"
            ]
          },
          "metadata": {},
          "execution_count": 8
        }
      ]
    },
    {
      "cell_type": "code",
      "source": [
        "# Visualizing the dataset\n",
        "x = ling_data[0]\n",
        "y = ling_data[6]\n",
        "\n",
        "plt.scatter(x, y, c=y, cmap='Wistia')\n",
        "plt.title('Scatter PLot of Logistic Regression')\n",
        "plt.show()"
      ],
      "metadata": {
        "colab": {
          "base_uri": "https://localhost:8080/",
          "height": 281
        },
        "id": "7xyl8wkNXr8o",
        "outputId": "bbc3a2c5-6c05-4397-c47e-035a6e6e33e4"
      },
      "execution_count": null,
      "outputs": [
        {
          "output_type": "display_data",
          "data": {
            "text/plain": [
              "<Figure size 432x288 with 1 Axes>"
            ],
            "image/png": "[encoded data removed]"
          },
          "metadata": {
            "needs_background": "light"
          }
        }
      ]
    },
    {
      "cell_type": "code",
      "source": [
        "# Splitting the dataset\n",
        "x = ling_data.drop(columns=6, axis=1)\n",
        "y = ling_data[6]\n",
        "x_train, x_test, y_train, y_test = train_test_split(x, y, test_size=0.2, stratify=y, random_state=1)"
      ],
      "metadata": {
        "id": "LX0nb2Vyb43p"
      },
      "execution_count": null,
      "outputs": []
    },
    {
      "cell_type": "markdown",
      "source": [
        "### **Methods**\n",
        "##### **Logistic Regression**\n",
        "Logistic regression is a statistical method for predicting binary outcomes from data. It is a supervised learning algorithm that is used for classification. In logistic regression, the dependent variable is binary or dichotomous, meaning it only contains data coded as 1 (yes, success, etc.) or 0 (no, failure, etc.). The goal of logistic regression is to find the best fitting model to describe the relationship between the dependent binary variable and one or more independent variables. The model is a linear combination of the independent variables and parameters (coefficients), where the independent variables are transformed using the logistic function. <br>The logistic function is given by: $$f(x) = \\frac{1}{1 + e^{-x}}$$ <br> The output of the logistic function is a value between 0 and 1, which can be interpreted as the probability of the dependent variable being 1. To estimate the parameters in the logistic regression model, we can use maximum likelihood estimation. This involves finding the values of the parameters that maximize the likelihood function, which is a measure of the probability of the observed data given the model and the parameters. Once the parameters have been estimated, we can use the model to make predictions about the probability of the dependent variable being 1 for new data. We can also use a threshold value to classify the data into either class 0 or class 1. For example, if we set the threshold at 0.5, then a probability of 0.51 would be classified as class 1, and a probability of 0.49 would be classified as class 0.<br> In summary, logistic regression is a statistical method for predicting binary outcomes from data. It is a supervised learning algorithm that estimates the parameters of a linear combination of independent variables using the logistic function, and uses these estimates to make predictions about the probability of the dependent variable being 1."
      ],
      "metadata": {
        "id": "yz99EAm5jjz4"
      }
    },
    {
      "cell_type": "code",
      "source": [
        "model = LogisticRegression()\n",
        "model.fit(x_train, y_train)"
      ],
      "metadata": {
        "colab": {
          "base_uri": "https://localhost:8080/"
        },
        "id": "45QB6jRIb7ES",
        "outputId": "cf691a58-1b56-4b60-e759-90e3019f633a"
      },
      "execution_count": null,
      "outputs": [
        {
          "output_type": "execute_result",
          "data": {
            "text/plain": [
              "LogisticRegression()"
            ]
          },
          "metadata": {},
          "execution_count": 101
        }
      ]
    },
    {
      "cell_type": "code",
      "source": [
        "x_train_predict = model.predict(x_train)\n",
        "training_data_acc = accuracy_score(x_train_predict, y_train)"
      ],
      "metadata": {
        "id": "kLC-_Gh2b8QS"
      },
      "execution_count": null,
      "outputs": []
    },
    {
      "cell_type": "code",
      "source": [
        "print(f'Training data accuracy: {training_data_acc}')"
      ],
      "metadata": {
        "colab": {
          "base_uri": "https://localhost:8080/"
        },
        "id": "zaa5Yhqwb-HP",
        "outputId": "083d6bfc-333d-40e9-9c0a-d306029730e0"
      },
      "execution_count": null,
      "outputs": [
        {
          "output_type": "stream",
          "name": "stdout",
          "text": [
            "Training data accuracy: 0.6125\n"
          ]
        }
      ]
    },
    {
      "cell_type": "code",
      "source": [
        "input_data = (17,2,2,2,1,8)\n",
        "input_data_as_array = np.asarray(input_data)\n",
        "input_data_reshape = input_data_as_array.reshape(1, -1)\n",
        "predict = model.predict(input_data_reshape)\n",
        "\n",
        "if predict[0] == '0':\n",
        "  print('Intendency to become multilingual')\n",
        "else:\n",
        "  print('Tendency to become multilingual')"
      ],
      "metadata": {
        "colab": {
          "base_uri": "https://localhost:8080/"
        },
        "id": "Jle22SlGcS2j",
        "outputId": "a33da2a6-4a4c-49c0-b2e1-5cc85909a35f"
      },
      "execution_count": null,
      "outputs": [
        {
          "output_type": "stream",
          "name": "stdout",
          "text": [
            "Tendency to become multilingual\n"
          ]
        }
      ]
    },
    {
      "cell_type": "markdown",
      "source": [
        "##### **Confusion Matrix**\n",
        "A confusion matrix is a table that is used to describe the performance of a classification model on a set of test data for which the true values are known. It allows you to visualize the predictions made by the model, and compare them to the true values. The confusion matrix is a useful tool for understanding the errors made by the model, and for identifying patterns in the errors.\n",
        " <br> The confusion matrix has four main diagonal cells (top left, top right, bottom left, bottom right) and four off-diagonal cells (top left, top right, bottom left, bottom right). The main diagonal cells represent the number of correctly classified instances, while the off-diagonal cells represent the number of misclassified instances. The main diagonal cells are often referred to as true positives (TP), true negatives (TN), false positives (FP), and false negatives (FN).\n",
        "<br> The formula for a confusion matrix is:\n",
        "<br> TP: True positive (correctly classified as positive)\n",
        "<br> TN: True negative (correctly classified as negative)\n",
        "<br> FP: False positive (incorrectly classified as positive)\n",
        "<br> FN: False negative (incorrectly classified as negative)\n",
        "<br> In summary, the confusion matrix is a useful tool for evaluating the performance of a classification model, and for understanding the errors made by the model. It allows you to calculate a variety of metrics to understand the strengths and weaknesses of the model, and to identify patterns in the errors made by the model."
      ],
      "metadata": {
        "id": "D0ALYGmt3A5V"
      }
    },
    {
      "cell_type": "code",
      "source": [
        "disp = plot_confusion_matrix(model, x_test, y_test, cmap='Wistia', values_format='.3g')"
      ],
      "metadata": {
        "colab": {
          "base_uri": "https://localhost:8080/",
          "height": 283
        },
        "id": "nJlAma7jcobT",
        "outputId": "80406fd8-8a66-4559-d672-2e1bd316acff"
      },
      "execution_count": null,
      "outputs": [
        {
          "output_type": "display_data",
          "data": {
            "text/plain": [
              "<Figure size 432x288 with 2 Axes>"
            ],
            "image/png": "[encoded data removed]"
          },
          "metadata": {
            "needs_background": "light"
          }
        }
      ]
    },
    {
      "cell_type": "code",
      "source": [
        "disp.confusion_matrix"
      ],
      "metadata": {
        "colab": {
          "base_uri": "https://localhost:8080/"
        },
        "id": "v4PFbpaffVas",
        "outputId": "19718a86-4a5c-410e-d00d-afaaef668b51"
      },
      "execution_count": null,
      "outputs": [
        {
          "output_type": "execute_result",
          "data": {
            "text/plain": [
              "array([[6, 5],\n",
              "       [6, 3]])"
            ]
          },
          "metadata": {},
          "execution_count": 102
        }
      ]
    },
    {
      "cell_type": "markdown",
      "source": [
        "### **References**\n",
        "1. Scikit-Learn Developers (2007-2022). BSD License- Logistic Regression.\n",
        "2. Scikit-Learn Developers (2007-2022). BSD License- Confusion Matrix. \n",
        "3. John Hunter, Darren Dale, Eric Firing, Michael Droettboom and the Matplotlib Development Team (2012-2022).\n",
        "4.  The Open Journal, Seaborn: Statistical Data Visualization, Michael L. Waskom (2012-2022).\n",
        "5. NumPy Steering Council, NumPy, GitHub, BSD License (2022).\n",
        "6. David W. Hosmer, Stanley Lemeshow, Rodney X. Sturdivent, Applied Logistic Regression (2013).\n",
        "7. Machine Learning Mastery (2020-2022).\n",
        "8. Andrew Plummer, The Beginner's Guide to Logistic Regression (2020)."
      ],
      "metadata": {
        "id": "ZC9mGXPukmPP"
      }
    },
    {
      "cell_type": "markdown",
      "source": [
        "### **Acknowledgemens**\n",
        "We thank our mentor, Rajan Tripathi, for his continued guidance throughout the independent research and for his help in testing and planning the design for our machine learning model. \n"
      ],
      "metadata": {
        "id": "VQZl3PjVldLb"
      }
    }
  ]
}